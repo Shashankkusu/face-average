{
 "cells": [
  {
   "cell_type": "code",
   "execution_count": 5,
   "id": "f1bf9cdc-55b4-433e-ae9c-549219a538e4",
   "metadata": {},
   "outputs": [],
   "source": [
    "import dlib\n",
    "import cv2\n",
    "\n",
    "# Initialize face detector and landmark predictor\n",
    "predictor_path = r\"C:\\Users\\gowri\\OneDrive\\Desktop\\face average\\shape_predictor_68_face_landmarks.dat\"\n",
    "detector = dlib.get_frontal_face_detector()\n",
    "predictor = dlib.shape_predictor(predictor_path)\n",
    "\n",
    "def getLandmarks(image_path):\n",
    "    img = cv2.imread(image_path)\n",
    "    img_gray = cv2.cvtColor(img, cv2.COLOR_BGR2GRAY)\n",
    "\n",
    "    faces = detector(img_gray)\n",
    "\n",
    "    if len(faces) == 0:\n",
    "        raise Exception(\"No face detected in the image.\")\n",
    "\n",
    "    # Detect landmarks on the first detected face\n",
    "    shape = predictor(img_gray, faces[0])\n",
    "\n",
    "    # Extract the 68 (x, y) points\n",
    "    landmarks = [(shape.part(i).x, shape.part(i).y) for i in range(68)]\n",
    "\n",
    "    return landmarks\n"
   ]
  },
  {
   "cell_type": "code",
   "execution_count": 7,
   "id": "e6775529-1690-4fb2-8494-8a06c238aca8",
   "metadata": {},
   "outputs": [
    {
     "name": "stdout",
     "output_type": "stream",
     "text": [
      "[(58, 105), (59, 121), (61, 136), (64, 151), (69, 164), (76, 177), (86, 186), (97, 194), (111, 195), (126, 193), (140, 186), (152, 177), (161, 165), (167, 151), (169, 135), (170, 119), (172, 103), (68, 95), (74, 89), (83, 88), (92, 89), (101, 91), (115, 92), (124, 90), (134, 89), (144, 90), (152, 95), (107, 100), (107, 110), (106, 120), (106, 131), (97, 137), (102, 139), (107, 140), (113, 139), (118, 137), (77, 102), (82, 100), (88, 100), (93, 102), (88, 103), (82, 103), (123, 103), (128, 100), (134, 100), (141, 102), (134, 103), (129, 103), (89, 160), (95, 156), (101, 154), (107, 155), (112, 153), (120, 155), (127, 159), (120, 163), (113, 166), (107, 166), (102, 166), (95, 164), (92, 160), (102, 157), (107, 158), (112, 157), (124, 158), (113, 159), (107, 160), (102, 160)]\n"
     ]
    }
   ],
   "source": [
    "image_path = r\"C:\\Users\\gowri\\OneDrive\\Desktop\\face average\\presidents\\joebiden.jpg\"\n",
    "points = getLandmarks(image_path)\n",
    "print(points)  # [(x1, y1), (x2, y2), ..., (x68, y68)]\n"
   ]
  },
  {
   "cell_type": "code",
   "execution_count": 11,
   "id": "6809c2fb-8d5d-4460-99cd-ee662f1f3c73",
   "metadata": {},
   "outputs": [
    {
     "name": "stdout",
     "output_type": "stream",
     "text": [
      "Landmarks saved to C:\\Users\\gowri\\OneDrive\\Desktop\\face average\\presidents\\joebiden.txt\n"
     ]
    }
   ],
   "source": [
    "import os\n",
    "\n",
    "def savePointsToTxt(points, save_path):\n",
    "    with open(save_path, 'w') as f:\n",
    "        for (x, y) in points:\n",
    "            f.write(f\"{x} {y}\\n\")\n",
    "\n",
    "# Extract last name from image file (e.g., \"joebiden.jpg\" → \"joebiden\")\n",
    "base_name = os.path.splitext(os.path.basename(image_path))[0]\n",
    "\n",
    "# Construct the path to save .txt file in the same directory\n",
    "save_path = os.path.join(os.path.dirname(image_path), f\"{base_name}.txt\")\n",
    "\n",
    "# Save the points to text file\n",
    "savePointsToTxt(points, save_path)\n",
    "\n",
    "print(f\"Landmarks saved to {save_path}\")\n"
   ]
  },
  {
   "cell_type": "code",
   "execution_count": null,
   "id": "5cb5703a-3c5f-4d9e-9658-89046742ccfe",
   "metadata": {},
   "outputs": [],
   "source": []
  }
 ],
 "metadata": {
  "kernelspec": {
   "display_name": "Python 3 (ipykernel)",
   "language": "python",
   "name": "python3"
  },
  "language_info": {
   "codemirror_mode": {
    "name": "ipython",
    "version": 3
   },
   "file_extension": ".py",
   "mimetype": "text/x-python",
   "name": "python",
   "nbconvert_exporter": "python",
   "pygments_lexer": "ipython3",
   "version": "3.12.4"
  }
 },
 "nbformat": 4,
 "nbformat_minor": 5
}
